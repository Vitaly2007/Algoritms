{
 "metadata": {
  "orig_nbformat": 2,
  "kernelspec": {
   "name": "python3",
   "display_name": "Python 3.8.4 64-bit ('venv': venv)"
  },
  "interpreter": {
   "hash": "45446154c1b1baa1531b64c753f11551ee4dfda41d3254df5107177f5ff360fc"
  },
  "language_info": {
   "name": "python",
   "version": "3.8.4",
   "mimetype": "text/x-python",
   "codemirror_mode": {
    "name": "ipython",
    "version": 3
   },
   "pygments_lexer": "ipython3",
   "nbconvert_exporter": "python",
   "file_extension": ".py"
  }
 },
 "nbformat": 4,
 "nbformat_minor": 2,
 "cells": [
  {
   "cell_type": "code",
   "execution_count": 25,
   "source": [
    "#Очередь с приоритетами\r\n",
    "import heapq\r\n",
    "i = int(input())\r\n",
    "h = []\r\n",
    "for _ in range(i):\r\n",
    "    elem = input().split()\r\n",
    "    if elem[0] == 'Insert':\r\n",
    "        heapq.heappush(h,int(elem[1]))\r\n",
    "    else:\r\n",
    "        print(max(h))"
   ],
   "outputs": [
    {
     "output_type": "stream",
     "name": "stdout",
     "text": [
      "200\n",
      "500\n"
     ]
    }
   ],
   "metadata": {}
  },
  {
   "cell_type": "code",
   "execution_count": 22,
   "source": [],
   "outputs": [
    {
     "output_type": "stream",
     "name": "stdout",
     "text": [
      "[2, 5, 4, 300]\n"
     ]
    }
   ],
   "metadata": {}
  }
 ]
}