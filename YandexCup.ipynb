{
 "metadata": {
  "orig_nbformat": 2,
  "kernelspec": {
   "name": "python3",
   "display_name": "Python 3.8.4 64-bit ('venv': venv)"
  },
  "interpreter": {
   "hash": "45446154c1b1baa1531b64c753f11551ee4dfda41d3254df5107177f5ff360fc"
  },
  "language_info": {
   "name": "python",
   "version": "3.8.4",
   "mimetype": "text/x-python",
   "codemirror_mode": {
    "name": "ipython",
    "version": 3
   },
   "pygments_lexer": "ipython3",
   "nbconvert_exporter": "python",
   "file_extension": ".py"
  }
 },
 "nbformat": 4,
 "nbformat_minor": 2,
 "cells": [
  {
   "cell_type": "code",
   "execution_count": 77,
   "source": [
    "def Insert(h,val):\r\n",
    "    h.append(val)\r\n",
    "    i = len(h)-1\r\n",
    "    if i > 0:\r\n",
    "        h = siftfUp(h, i)\r\n",
    "    return(h)"
   ],
   "outputs": [],
   "metadata": {}
  },
  {
   "cell_type": "code",
   "execution_count": 88,
   "source": [
    "def ExtractMax(h):\r\n",
    "    h [0], h[-1] = h[-1], h[0]\r\n",
    "    val = h.pop(-1)\r\n",
    "    siftfDown(h)\r\n",
    "    return h, val\r\n",
    "    #return max value heap"
   ],
   "outputs": [],
   "metadata": {}
  },
  {
   "cell_type": "code",
   "execution_count": 68,
   "source": [
    "def siftfUp(h, i):\r\n",
    "    j = int(i/2)\r\n",
    "    p = h[j]\r\n",
    "    val = h[i]\r\n",
    "    while val > p:\r\n",
    "        h[j], h[i] = h[i], h[j]\r\n",
    "        i = j\r\n",
    "        val = h[i]\r\n",
    "        j = int(i/2)\r\n",
    "        p = h[j]\r\n",
    "    return(h)\r\n"
   ],
   "outputs": [],
   "metadata": {}
  },
  {
   "cell_type": "code",
   "execution_count": null,
   "source": [
    "def siftDown(h):\r\n",
    "    pass"
   ],
   "outputs": [],
   "metadata": {}
  },
  {
   "cell_type": "code",
   "execution_count": 91,
   "source": [
    "#Куча, частный случай очереди с приоритетами\r\n",
    "def heap():\r\n",
    "    s = int(input())\r\n",
    "    h = []\r\n",
    "    for _ in range(s):\r\n",
    "        elem = input().split()\r\n",
    "        if elem[0] == 'Insert':\r\n",
    "            h = Insert(h, elem[1])\r\n",
    "        else:\r\n",
    "            h, val = ExtractMax(h)\r\n",
    "            print(val)"
   ],
   "outputs": [],
   "metadata": {}
  },
  {
   "cell_type": "code",
   "execution_count": 94,
   "source": [
    "lst = [1,2,34,45,56,345]\r\n",
    "lst.pop(-1)"
   ],
   "outputs": [
    {
     "output_type": "execute_result",
     "data": {
      "text/plain": [
       "345"
      ]
     },
     "metadata": {},
     "execution_count": 94
    }
   ],
   "metadata": {}
  }
 ]
}