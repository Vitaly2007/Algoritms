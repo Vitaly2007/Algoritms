{
 "metadata": {
  "orig_nbformat": 2,
  "kernelspec": {
   "name": "python3",
   "display_name": "Python 3.8.4 64-bit ('venv': venv)"
  },
  "interpreter": {
   "hash": "45446154c1b1baa1531b64c753f11551ee4dfda41d3254df5107177f5ff360fc"
  },
  "language_info": {
   "name": "python",
   "version": "3.8.4",
   "mimetype": "text/x-python",
   "codemirror_mode": {
    "name": "ipython",
    "version": 3
   },
   "pygments_lexer": "ipython3",
   "nbconvert_exporter": "python",
   "file_extension": ".py"
  }
 },
 "nbformat": 4,
 "nbformat_minor": 2,
 "cells": [
  {
   "cell_type": "code",
   "execution_count": 6,
   "source": [
    "def Insert(h,val):\r\n",
    "    h.append(val)\r\n",
    "    pos = len(h)-1\r\n",
    "    siftUp(h, 0, pos)"
   ],
   "outputs": [],
   "metadata": {}
  },
  {
   "cell_type": "code",
   "execution_count": 7,
   "source": [
    "def ExtractMax(heap):\r\n",
    "    lastitem = heap.pop()\r\n",
    "    if heap:\r\n",
    "        returnitem = heap[0]\r\n",
    "        heap[0] = lastitem\r\n",
    "        siftDown(heap, 0)\r\n",
    "        return returnitem\r\n",
    "    return lastitem"
   ],
   "outputs": [],
   "metadata": {}
  },
  {
   "cell_type": "code",
   "execution_count": 16,
   "source": [
    "def siftUp(heap, startpos, pos):\r\n",
    "    newelem = heap[pos]\r\n",
    "    while pos > startpos:\r\n",
    "        pos_parent = (pos-1) >> 1\r\n",
    "        parent = heap[pos_parent]\r\n",
    "        if newelem > parent:\r\n",
    "            heap[pos] = parent\r\n",
    "            pos = pos_parent\r\n",
    "            continue\r\n",
    "        break\r\n",
    "    heap[pos] = newelem"
   ],
   "outputs": [],
   "metadata": {}
  },
  {
   "cell_type": "code",
   "execution_count": 22,
   "source": [
    "def siftDown(heap, pos):\r\n",
    "    endpos = len(heap)\r\n",
    "    startpos = 0\r\n",
    "    newitem = heap[pos]\r\n",
    "    childpos = 2*pos+1\r\n",
    "    while childpos < endpos:\r\n",
    "        rightpos = childpos+1\r\n",
    "        if rightpos < endpos and heap[rightpos] > heap[childpos]:\r\n",
    "            childpos = rightpos\r\n",
    "        heap[pos] = heap[childpos]\r\n",
    "        pos = childpos\r\n",
    "        childpos = 2*pos+1\r\n",
    "    heap[pos] = newitem\r\n",
    "    siftUp(heap, startpos, pos)"
   ],
   "outputs": [],
   "metadata": {}
  },
  {
   "cell_type": "code",
   "execution_count": 24,
   "source": [
    "#Куча, частный случай очереди с приоритетами\r\n",
    "def heap_func():\r\n",
    "    s = int(input())\r\n",
    "    h = [18, 15, 3, 2, 12]\r\n",
    "    for _ in range(s):\r\n",
    "        elem = input().split()\r\n",
    "        if elem[0] == 'Insert':\r\n",
    "            Insert(h, int(elem[1]))\r\n",
    "        else:\r\n",
    "            print(ExtractMax(h))"
   ],
   "outputs": [],
   "metadata": {}
  },
  {
   "cell_type": "code",
   "execution_count": 25,
   "source": [
    "heap_func()"
   ],
   "outputs": [
    {
     "output_type": "stream",
     "name": "stdout",
     "text": [
      "[15, 12, 3, 2]\n",
      "18\n",
      "[12, 2, 3]\n",
      "15\n",
      "[3, 2]\n",
      "12\n"
     ]
    }
   ],
   "metadata": {}
  }
 ]
}