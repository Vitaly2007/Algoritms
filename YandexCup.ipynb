{
 "metadata": {
  "orig_nbformat": 2,
  "kernelspec": {
   "name": "python3",
   "display_name": "Python 3.8.4 64-bit ('venv': venv)"
  },
  "interpreter": {
   "hash": "45446154c1b1baa1531b64c753f11551ee4dfda41d3254df5107177f5ff360fc"
  },
  "language_info": {
   "name": "python",
   "version": "3.8.4",
   "mimetype": "text/x-python",
   "codemirror_mode": {
    "name": "ipython",
    "version": 3
   },
   "pygments_lexer": "ipython3",
   "nbconvert_exporter": "python",
   "file_extension": ".py"
  }
 },
 "nbformat": 4,
 "nbformat_minor": 2,
 "cells": [
  {
   "cell_type": "code",
   "execution_count": 5,
   "source": [
    "#Очередь с приоритетами\r\n",
    "i = int(input())\r\n",
    "h = []\r\n",
    "for _ in range(i):\r\n",
    "    elem = input().split()\r\n",
    "    if elem[0] == 'Insert':\r\n",
    "        h.append(int(elem[1]))\r\n",
    "        h.sort()\r\n",
    "    else:\r\n",
    "        print(h.pop(-1))"
   ],
   "outputs": [
    {
     "output_type": "stream",
     "name": "stdout",
     "text": [
      "200\n",
      "500\n"
     ]
    }
   ],
   "metadata": {}
  },
  {
   "cell_type": "code",
   "execution_count": 10,
   "source": [
    "import heapq\r\n",
    "x = [100,200, 800,400, 700]\r\n",
    "heapq.heapify(x)\r\n",
    "print(x)"
   ],
   "outputs": [
    {
     "output_type": "stream",
     "name": "stdout",
     "text": [
      "[100, 200, 800, 400, 700]\n"
     ]
    }
   ],
   "metadata": {}
  }
 ]
}