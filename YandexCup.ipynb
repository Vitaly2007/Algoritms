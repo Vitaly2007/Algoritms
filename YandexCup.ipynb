{
 "metadata": {
  "orig_nbformat": 2,
  "kernelspec": {
   "name": "python3",
   "display_name": "Python 3.8.4 64-bit ('venv': venv)"
  },
  "interpreter": {
   "hash": "45446154c1b1baa1531b64c753f11551ee4dfda41d3254df5107177f5ff360fc"
  },
  "language_info": {
   "name": "python",
   "version": "3.8.4",
   "mimetype": "text/x-python",
   "codemirror_mode": {
    "name": "ipython",
    "version": 3
   },
   "pygments_lexer": "ipython3",
   "nbconvert_exporter": "python",
   "file_extension": ".py"
  }
 },
 "nbformat": 4,
 "nbformat_minor": 2,
 "cells": [
  {
   "cell_type": "code",
   "execution_count": 77,
   "source": [
    "def Insert(h,val):\r\n",
    "    h += [val]\r\n",
    "    i = len(h)-1\r\n",
    "    if i > 0:\r\n",
    "        h = siftfUp(h, i)\r\n",
    "    return h"
   ],
   "outputs": [],
   "metadata": {}
  },
  {
   "cell_type": "code",
   "execution_count": 144,
   "source": [
    "def ExtractMax(h):\r\n",
    "    val = h[0]\r\n",
    "    h = h[-1:]+h[1:len(h)-1]\r\n",
    "    h = siftDown2(h,0)\r\n",
    "    return h, val"
   ],
   "outputs": [],
   "metadata": {}
  },
  {
   "cell_type": "code",
   "execution_count": 127,
   "source": [
    "def siftfUp(h, i):\r\n",
    "    j = int(i/2)\r\n",
    "    while h[i] > h[j]:\r\n",
    "        h[j], h[i] = h[i], h[j]\r\n",
    "        i = j\r\n",
    "        j = int(i/2) \r\n",
    "    return(h)\r\n"
   ],
   "outputs": [],
   "metadata": {}
  },
  {
   "cell_type": "code",
   "execution_count": null,
   "source": [
    "#SiftDown version 2\r\n",
    "def siftDown2(h, i):\r\n",
    "    left = 2*i+1\r\n",
    "    right = 2*i+2\r\n",
    "    while 2*i+1 < len(h):\r\n",
    "        if h[i] >= h[left]:\r\n",
    "            break\r\n",
    "        h[i], h[left] = h[left], h[i]\r\n",
    "        i = left\r\n",
    "        if right < len(h) and h[right] >= h[left]:\r\n",
    "            h[i], h[right] = h[right], h[i]\r\n",
    "            i = right\r\n",
    "    return h"
   ],
   "outputs": [],
   "metadata": {}
  },
  {
   "cell_type": "code",
   "execution_count": 126,
   "source": [
    "def siftDown(h):\r\n",
    "    j = 0\r\n",
    "    while 2*j+1 < len(h):\r\n",
    "        left = 2*j+1\r\n",
    "        right = 2*j+2\r\n",
    "        if right < len(h) and h[right] >= h[left]:\r\n",
    "            h[j], h[right] = h[right], h[j]\r\n",
    "            j = right\r\n",
    "        if h[left] <= h[j]:\r\n",
    "            break\r\n",
    "        else:\r\n",
    "            h[j], h[left] = h[left], h[j]\r\n",
    "            j = left\r\n",
    "    return h"
   ],
   "outputs": [],
   "metadata": {}
  },
  {
   "cell_type": "code",
   "execution_count": 105,
   "source": [
    "#Куча, частный случай очереди с приоритетами\r\n",
    "def heap():\r\n",
    "    s = int(input())\r\n",
    "    h = []\r\n",
    "    for _ in range(s):\r\n",
    "        elem = input().split()\r\n",
    "        if elem[0] == 'Insert':\r\n",
    "            h = Insert(h, elem[1])\r\n",
    "        else:\r\n",
    "            h, val = ExtractMax()\r\n",
    "            print(val)"
   ],
   "outputs": [],
   "metadata": {}
  }
 ]
}