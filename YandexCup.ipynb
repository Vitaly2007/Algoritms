{
 "metadata": {
  "orig_nbformat": 2,
  "kernelspec": {
   "name": "python3",
   "display_name": "Python 3.8.4 64-bit"
  },
  "interpreter": {
   "hash": "2db524e06e9f5f4ffedc911c917cb75e12dbc923643829bf417064a77eb14d37"
  }
 },
 "nbformat": 4,
 "nbformat_minor": 2,
 "cells": [
  {
   "cell_type": "code",
   "execution_count": 1,
   "metadata": {
    "tags": []
   },
   "outputs": [
    {
     "output_type": "stream",
     "name": "stdout",
     "text": "4\n"
    }
   ],
   "source": [
    "#камни и украшения\n",
    "j = input()\n",
    "s = input()\n",
    "k = ''\n",
    "for elem in s:\n",
    "    if elem in j:\n",
    "        k += elem\n",
    "print(len(k))"
   ]
  },
  {
   "cell_type": "code",
   "execution_count": 182,
   "metadata": {},
   "outputs": [],
   "source": [
    "lst = [[0 for _ in range(5)] for _ in range(5)]"
   ]
  },
  {
   "cell_type": "code",
   "execution_count": 183,
   "metadata": {},
   "outputs": [
    {
     "output_type": "stream",
     "name": "stdout",
     "text": [
      "0 0 0 0 0\n0 0 0 0 0\n0 0 0 0 0\n0 0 0 0 0\n0 0 0 0 0\n"
     ]
    }
   ],
   "source": [
    "for elem in lst:\n",
    "    print(*elem)"
   ]
  },
  {
   "cell_type": "code",
   "execution_count": null,
   "metadata": {},
   "outputs": [
    {
     "output_type": "error",
     "ename": "Error",
     "evalue": "Pip module Unable to parse debugpy output, please log an issue with https://github.com/microsoft/vscode-jupyter is required for debugging cells. You will need to install it to debug cells.",
     "traceback": [
      "Error: Pip module Unable to parse debugpy output, please log an issue with https://github.com/microsoft/vscode-jupyter is required for debugging cells. You will need to install it to debug cells.",
      "at _.parseConnectInfo (c:\\Users\\Виталий\\.vscode\\extensions\\ms-toolsai.jupyter-2021.6.999406279\\out\\client\\extension.js:90:160684)",
      "at _.connectToLocal (c:\\Users\\Виталий\\.vscode\\extensions\\ms-toolsai.jupyter-2021.6.999406279\\out\\client\\extension.js:90:161211)",
      "at async _.connect (c:\\Users\\Виталий\\.vscode\\extensions\\ms-toolsai.jupyter-2021.6.999406279\\out\\client\\extension.js:90:159088)",
      "at async _.startDebugSession (c:\\Users\\Виталий\\.vscode\\extensions\\ms-toolsai.jupyter-2021.6.999406279\\out\\client\\extension.js:90:158235)",
      "at async D.submitCode (c:\\Users\\Виталий\\.vscode\\extensions\\ms-toolsai.jupyter-2021.6.999406279\\out\\client\\extension.js:37:636585)",
      "at async D.handleRunByLine (c:\\Users\\Виталий\\.vscode\\extensions\\ms-toolsai.jupyter-2021.6.999406279\\out\\client\\extension.js:37:624528)"
     ]
    }
   ],
   "source": [
    "n = 5\n",
    "x = 1\n",
    "\n",
    "step = 1\n",
    "while x <= n**2: \n",
    "# шаг первый: i= 0 j= 1,2,3,4 step = 0\n",
    "# шаг два: i= 1,2,3,4 j = 4 step = 1\n",
    "# шаг три: i= 4, j = 3,2,1,0 step = -1\n",
    "# шаг 4: i= 3,2,1 j = 0\n",
    "    for j in range(start, end, step):\n",
    "        lst[i][j] = x\n",
    "        x += 1"
   ]
  },
  {
   "cell_type": "code",
   "execution_count": null,
   "metadata": {},
   "outputs": [],
   "source": []
  }
 ]
}