{
 "metadata": {
  "language_info": {
   "codemirror_mode": {
    "name": "ipython",
    "version": 3
   },
   "file_extension": ".py",
   "mimetype": "text/x-python",
   "name": "python",
   "nbconvert_exporter": "python",
   "pygments_lexer": "ipython3",
   "version": "3.8.4"
  },
  "orig_nbformat": 2,
  "kernelspec": {
   "name": "python3",
   "display_name": "Python 3.8.4 64-bit ('venv': venv)"
  },
  "interpreter": {
   "hash": "45446154c1b1baa1531b64c753f11551ee4dfda41d3254df5107177f5ff360fc"
  }
 },
 "cells": [
  {
   "cell_type": "code",
   "execution_count": 32,
   "source": [
    "n = int(input())\r\n",
    "lst = []\r\n",
    "stout=[]\r\n",
    "for _ in range(n):\r\n",
    "    lst.append(list(map(int,input().split())))\r\n",
    "lst = sorted(lst, key= lambda x: x[1])\r\n",
    "stout.append(lst[0][1])\r\n",
    "for m, n in lst:\r\n",
    "    if m > stout[-1]:\r\n",
    "        stout.append(n)\r\n",
    "print(len(stout))\r\n",
    "print(*stout)"
   ],
   "outputs": [
    {
     "output_type": "stream",
     "name": "stdout",
     "text": [
      "1\n",
      "3\n"
     ]
    }
   ],
   "metadata": {}
  },
  {
   "cell_type": "code",
   "execution_count": 71,
   "source": [
    "#Непрерывный рюкзак\r\n",
    "n, w = list(map(int,input().split()))\r\n",
    "lst = []\r\n",
    "stout= 0\r\n",
    "for _ in range(n):\r\n",
    "    lst.append(list(map(int,input().split())))\r\n",
    "lst = sorted(lst,key=lambda x:x[0]/x[1], reverse=True)\r\n",
    "for elem in lst:\r\n",
    "    c, v = elem\r\n",
    "    if c == 0:\r\n",
    "        break\r\n",
    "    else:\r\n",
    "        if v <= w:\r\n",
    "            stout += c\r\n",
    "            w -= v\r\n",
    "        else:\r\n",
    "            stout += (c/v)*w\r\n",
    "            break\r\n",
    "print('{:.3f}'.format(stout))"
   ],
   "outputs": [
    {
     "output_type": "stream",
     "name": "stdout",
     "text": [
      "0.000\n"
     ]
    }
   ],
   "metadata": {}
  },
  {
   "cell_type": "code",
   "execution_count": 104,
   "source": [
    "#Различные слагаемые\r\n",
    "n = int(input())\r\n",
    "lst = []\r\n",
    "i = 1\r\n",
    "while n > 0:\r\n",
    "    if n >= 2*i+1 or n == i:\r\n",
    "        lst.append(i)\r\n",
    "        n -= i\r\n",
    "    i += 1\r\n",
    "print(len(lst))\r\n",
    "print(*lst)"
   ],
   "outputs": [
    {
     "output_type": "stream",
     "name": "stdout",
     "text": [
      "2\n",
      "1 3\n"
     ]
    }
   ],
   "metadata": {}
  },
  {
   "cell_type": "code",
   "execution_count": 181,
   "source": [
    "s = input()\r\n",
    "dct = {}\r\n",
    "d = {}\r\n",
    "adj_lst = []\r\n",
    "f = ''\r\n",
    "for i in s:\r\n",
    "    if i in dct:\r\n",
    "        dct[i] += 1\r\n",
    "    else:\r\n",
    "        dct[i] = 1\r\n",
    "k = sorted(dct,key=lambda x: dct[x]) #отсортированные ключи\r\n",
    "d = dct.copy()\r\n",
    "\r\n",
    "while len(dct) > 1:\r\n",
    "    adj_lst.append((k[0], k[1]))\r\n",
    "    dct[k[0]+k[1]]= dct[k[0]]+dct[k[1]]\r\n",
    "    del dct[k[0]]\r\n",
    "    del dct[k[1]]\r\n",
    "    k = sorted(dct, key=lambda x: dct[x])\r\n",
    "if len(d) > 1:\r\n",
    "    for w in list(d.keys()):\r\n",
    "        for elem in adj_lst[::-1]:\r\n",
    "            l,r = elem\r\n",
    "            if w in l:\r\n",
    "                f += '0'\r\n",
    "            elif w in r:\r\n",
    "                f += '1'\r\n",
    "        d[w] = f\r\n",
    "        f = ''\r\n",
    "    for i in s:\r\n",
    "        f += d[i]\r\n",
    "    print(len(d),len(f))\r\n",
    "    for v1, v2 in d.items():\r\n",
    "        print(v1, v2, sep=': ')\r\n",
    "    print(f)\r\n",
    "else:\r\n",
    "    print(len(d), len(d))\r\n",
    "    print(k[0], len(d)-1, sep=': ')\r\n",
    "    print(len(d)-1)"
   ],
   "outputs": [
    {
     "output_type": "stream",
     "name": "stdout",
     "text": [
      "[('a', 's'), ('f', 'd'), ('g', 'as'), ('fd', 'gas')]\n"
     ]
    }
   ],
   "metadata": {}
  },
  {
   "cell_type": "code",
   "execution_count": 392,
   "source": [
    "def codeMap(d,H):\r\n",
    "    dct = {i:'' for i in d}\r\n",
    "    for letter in d:    \r\n",
    "        for label_node, label1, label2 in H[::-1]:\r\n",
    "            if letter in label1[1]:\r\n",
    "                dct[letter] += '0'\r\n",
    "                if letter == label1: break\r\n",
    "            if letter in label2[1]:\r\n",
    "                dct[letter] += '1'\r\n",
    "                if letter == label2: break\r\n",
    "    return dct"
   ],
   "outputs": [],
   "metadata": {}
  },
  {
   "cell_type": "code",
   "execution_count": 411,
   "source": [
    "s = 'zzzzzz'\r\n",
    "dct = {}\r\n",
    "H = []\r\n",
    "for w in s:\r\n",
    "    if w in dct:\r\n",
    "        dct[w] += 1\r\n",
    "    else:\r\n",
    "        dct[w] = 1\r\n",
    "k = sorted(dct, key=lambda x: dct[x])\r\n",
    "d = list(dct.keys())\r\n",
    "\r\n",
    "while len(dct) > 1:\r\n",
    "    child0 = (dct[k[0]], k[0])\r\n",
    "    child1 = (dct[k[1]], k[1])\r\n",
    "    node = (dct[k[0]]+dct[k[1]], ''.join(sorted(k[0]+k[1])))\r\n",
    "    H.append([node, child0, child1])\r\n",
    "    dct[node[1]] = node[0]\r\n",
    "    del dct[k[0]]\r\n",
    "    del dct[k[1]]\r\n",
    "    k = sorted(dct, key=lambda x: dct[x])\r\n",
    "dct.clear()\r\n",
    "dct = codeMap(d,H)\r\n",
    "printHuff(s,dct)\r\n",
    "\r\n"
   ],
   "outputs": [
    {
     "output_type": "stream",
     "name": "stdout",
     "text": [
      "1 6\n",
      "z: 0\n",
      "000000\n"
     ]
    }
   ],
   "metadata": {}
  },
  {
   "cell_type": "code",
   "execution_count": 410,
   "source": [
    "def printHuff(s,dct):\r\n",
    "    if len(dct) >1:\r\n",
    "        t = ''\r\n",
    "        for letter in s:\r\n",
    "            t += dct[letter]\r\n",
    "    else:\r\n",
    "        t = '0'*len(s)\r\n",
    "    print(len(dct), len(t))\r\n",
    "    for letter, code in dct.items():\r\n",
    "        if len(dct) <= 1: code = '0'\r\n",
    "        print(letter, code, sep=': ')\r\n",
    "    print(t)"
   ],
   "outputs": [],
   "metadata": {}
  },
  {
   "cell_type": "code",
   "execution_count": 455,
   "source": [
    "def dictMap(val_letter):\r\n",
    "    dct = {}\r\n",
    "    for _ in range(val_letter):\r\n",
    "        letter, code = input().split(': ')\r\n",
    "        dct[letter] = code\r\n",
    "    return dct"
   ],
   "outputs": [],
   "metadata": {}
  },
  {
   "cell_type": "code",
   "execution_count": 456,
   "source": [
    "def uncodeHuff(s_code, dct):\r\n",
    "    i, j = 0, 1\r\n",
    "    stout = ''\r\n",
    "    while j < len(s_code)+1:\r\n",
    "        for letter, code in dct.items():\r\n",
    "            if code == s_code[i:j]:\r\n",
    "                stout += letter\r\n",
    "                i,j = j, j\r\n",
    "        j += 1\r\n",
    "    return stout"
   ],
   "outputs": [],
   "metadata": {}
  },
  {
   "cell_type": "code",
   "execution_count": 457,
   "source": [
    "val_letter = int(input())\r\n",
    "len_str_code = int(input())\r\n",
    "dct = dictMap(val_letter)\r\n",
    "s_code = input()\r\n",
    "print(uncodeHuff(s_code,dct))"
   ],
   "outputs": [
    {
     "output_type": "stream",
     "name": "stdout",
     "text": [
      "abacabad\n"
     ]
    }
   ],
   "metadata": {}
  },
  {
   "cell_type": "code",
   "execution_count": 454,
   "source": [
    "dct = {'a':'0'}\r\n",
    "s_code = '000000'\r\n",
    "i, j = 0, 1\r\n",
    "stout = ''\r\n",
    "while j < len(s_code)+1:\r\n",
    "    for letter, code in dct.items():\r\n",
    "        if code == s_code[i:j]:\r\n",
    "            stout += letter\r\n",
    "            i,j = j, j\r\n",
    "    j += 1\r\n",
    "print(stout)"
   ],
   "outputs": [
    {
     "output_type": "stream",
     "name": "stdout",
     "text": [
      "aaaaaa\n"
     ]
    }
   ],
   "metadata": {}
  }
 ],
 "nbformat": 4,
 "nbformat_minor": 2
}