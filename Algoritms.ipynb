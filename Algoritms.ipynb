{
 "metadata": {
  "language_info": {
   "codemirror_mode": {
    "name": "ipython",
    "version": 3
   },
   "file_extension": ".py",
   "mimetype": "text/x-python",
   "name": "python",
   "nbconvert_exporter": "python",
   "pygments_lexer": "ipython3",
   "version": "3.8.4-final"
  },
  "orig_nbformat": 2,
  "kernelspec": {
   "name": "Python 3.8.4 64-bit ('venv')",
   "display_name": "Python 3.8.4 64-bit ('venv')",
   "metadata": {
    "interpreter": {
     "hash": "45446154c1b1baa1531b64c753f11551ee4dfda41d3254df5107177f5ff360fc"
    }
   }
  }
 },
 "nbformat": 4,
 "nbformat_minor": 2,
 "cells": [
  {
   "cell_type": "code",
   "execution_count": 45,
   "source": [
    "def anagramm ( word_1, word_2):\r\n",
    "    if len(word_1) != len(word_2) or word_1 == word_2[::2]:\r\n",
    "        return False\r\n",
    "    else:\r\n",
    "        dct = {elem: word_1.count(elem) for elem in word_1}\r\n",
    "        for elem in word_2:\r\n",
    "            if elem in dct.keys():\r\n",
    "                dct[elem] -= 1\r\n",
    "            else:\r\n",
    "                return False\r\n",
    "        for elem in dct.values():\r\n",
    "            if elem != 0:\r\n",
    "                return False\r\n",
    "        return True "
   ],
   "outputs": [],
   "metadata": {
    "tags": []
   }
  },
  {
   "cell_type": "code",
   "execution_count": 46,
   "source": [
    "word_1 = input()\r\n",
    "word_2 = input()\r\n",
    "anagramm(word_1, word_2)"
   ],
   "outputs": [
    {
     "output_type": "execute_result",
     "data": {
      "text/plain": [
       "True"
      ]
     },
     "metadata": {},
     "execution_count": 46
    }
   ],
   "metadata": {
    "tags": []
   }
  },
  {
   "cell_type": "code",
   "execution_count": 47,
   "source": [
    "word_1 = input()\r\n",
    "word_2 = input()\r\n",
    "if len(word_1) != len(word_2) or word_1 == word_2[::2] or sorted(word_1) != sorted (word_2):\r\n",
    "        print(False)\r\n",
    "else:\r\n",
    "        print(True)"
   ],
   "outputs": [
    {
     "output_type": "stream",
     "name": "stdout",
     "text": [
      "False\n"
     ]
    }
   ],
   "metadata": {
    "tags": []
   }
  },
  {
   "cell_type": "code",
   "execution_count": 48,
   "source": [
    "#Палиндром\r\n",
    "stin = list(input().lower())\r\n",
    "if len(stin) == 1:\r\n",
    "    print(True)\r\n",
    "else:\r\n",
    "    for i in stin[::-1]:\r\n",
    "        if ord(i) not in range(97,123) or i == ' ':\r\n",
    "            stin.remove(i)\r\n",
    "    print(stin == stin[::-1])"
   ],
   "outputs": [
    {
     "output_type": "stream",
     "name": "stdout",
     "text": [
      "True\n"
     ]
    }
   ],
   "metadata": {
    "tags": []
   }
  },
  {
   "cell_type": "code",
   "execution_count": 49,
   "source": [
    "#Двоичная система\r\n",
    "num1 = input()\r\n",
    "num2 = input()\r\n",
    "if len(num1) > len(num2):\r\n",
    "    lst = list(num1)\r\n",
    "elif len(num1) < len(num2):\r\n",
    "    lst = list(num2)\r\n",
    "else:\r\n",
    "    lst = list(num1)\r\n",
    "for elem in lst[::-1]:\r\n",
    "    "
   ],
   "outputs": [
    {
     "output_type": "error",
     "ename": "SyntaxError",
     "evalue": "unexpected EOF while parsing (<ipython-input-49-0a6e767f82c4>, line 11)",
     "traceback": [
      "\u001b[1;36m  File \u001b[1;32m\"<ipython-input-49-0a6e767f82c4>\"\u001b[1;36m, line \u001b[1;32m11\u001b[0m\n\u001b[1;33m    \u001b[0m\n\u001b[1;37m    ^\u001b[0m\n\u001b[1;31mSyntaxError\u001b[0m\u001b[1;31m:\u001b[0m unexpected EOF while parsing\n"
     ]
    }
   ],
   "metadata": {
    "tags": []
   }
  },
  {
   "cell_type": "code",
   "execution_count": 50,
   "source": [
    "#Частоты\r\n",
    "str_in = input()\r\n",
    "lst = []\r\n",
    "dct = {elem: str_in.count(elem) for elem in set(str_in)}\r\n",
    "for key_max, val_max in dct.items():\r\n",
    "    for key, val in dct.items():\r\n",
    "        if val_max < val:\r\n",
    "            key_max, val_max = key, val\r\n",
    "            lst.append(key_max*val_max)\r\n",
    "            del(dct[key_max])\r\n",
    "        else:\r\n",
    "            lst.append(key*val)\r\n",
    "print(lst)"
   ],
   "outputs": [
    {
     "output_type": "stream",
     "name": "stdout",
     "text": [
      "[]\n"
     ]
    }
   ],
   "metadata": {
    "tags": []
   }
  },
  {
   "cell_type": "code",
   "execution_count": 51,
   "source": [
    "#Степень 4-х\r\n",
    "n = int(input())\r\n",
    "while n >= 4:\r\n",
    "    n = n/4\r\n",
    "if n == 1:\r\n",
    "    print(True)\r\n",
    "else:\r\n",
    "    print(False)"
   ],
   "outputs": [
    {
     "output_type": "error",
     "ename": "ValueError",
     "evalue": "invalid literal for int() with base 10: ''",
     "traceback": [
      "\u001b[1;31m---------------------------------------------------------------------------\u001b[0m",
      "\u001b[1;31mValueError\u001b[0m                                Traceback (most recent call last)",
      "\u001b[1;32m<ipython-input-51-b9a4eb587d3d>\u001b[0m in \u001b[0;36m<module>\u001b[1;34m\u001b[0m\n\u001b[0;32m      1\u001b[0m \u001b[1;31m#Степень 4-х\u001b[0m\u001b[1;33m\u001b[0m\u001b[1;33m\u001b[0m\u001b[1;33m\u001b[0m\u001b[0m\n\u001b[1;32m----> 2\u001b[1;33m \u001b[0mn\u001b[0m \u001b[1;33m=\u001b[0m \u001b[0mint\u001b[0m\u001b[1;33m(\u001b[0m\u001b[0minput\u001b[0m\u001b[1;33m(\u001b[0m\u001b[1;33m)\u001b[0m\u001b[1;33m)\u001b[0m\u001b[1;33m\u001b[0m\u001b[1;33m\u001b[0m\u001b[0m\n\u001b[0m\u001b[0;32m      3\u001b[0m \u001b[1;32mwhile\u001b[0m \u001b[0mn\u001b[0m \u001b[1;33m>=\u001b[0m \u001b[1;36m4\u001b[0m\u001b[1;33m:\u001b[0m\u001b[1;33m\u001b[0m\u001b[1;33m\u001b[0m\u001b[0m\n\u001b[0;32m      4\u001b[0m     \u001b[0mn\u001b[0m \u001b[1;33m=\u001b[0m \u001b[0mn\u001b[0m\u001b[1;33m/\u001b[0m\u001b[1;36m4\u001b[0m\u001b[1;33m\u001b[0m\u001b[1;33m\u001b[0m\u001b[0m\n\u001b[0;32m      5\u001b[0m \u001b[1;32mif\u001b[0m \u001b[0mn\u001b[0m \u001b[1;33m==\u001b[0m \u001b[1;36m1\u001b[0m\u001b[1;33m:\u001b[0m\u001b[1;33m\u001b[0m\u001b[1;33m\u001b[0m\u001b[0m\n",
      "\u001b[1;31mValueError\u001b[0m: invalid literal for int() with base 10: ''"
     ]
    }
   ],
   "metadata": {
    "tags": []
   }
  },
  {
   "cell_type": "code",
   "execution_count": 52,
   "source": [
    "#Комбинации\r\n",
    "num = input()\r\n",
    "lst = []\r\n",
    "dct = {'2':'abc', '3':'def', '4':'ghi', '5':'jkl', '6':'mno', '7':'pqrs', '8':'tuv', '9':'wxyz'}\r\n",
    "for i in range(len(num)-1):\r\n",
    "    for j in range(i+1,len(num)):\r\n",
    "        num1 = num[i]\r\n",
    "        num2 = num[j]\r\n",
    "        for elem in dct[num1]:\r\n",
    "            for k in dct[num2]:\r\n",
    "                lst.append(elem+k)\r\n",
    "print(*lst)"
   ],
   "outputs": [
    {
     "output_type": "stream",
     "name": "stdout",
     "text": [
      "\n"
     ]
    }
   ],
   "metadata": {
    "tags": []
   }
  },
  {
   "cell_type": "code",
   "execution_count": 53,
   "source": [
    "lst = []\r\n",
    "lst_out = [['']*3 for i in range(3)]\r\n",
    "for i in '32':\r\n",
    "    lst.append(dct[i])\r\n",
    "for i in range(len(lst)):\r\n",
    "    for j in range(3):\r\n",
    "        lst_out[j][i] += lst[i][i]\r\n",
    "print(lst_out)"
   ],
   "outputs": [
    {
     "output_type": "stream",
     "name": "stdout",
     "text": [
      "[['d', 'b', ''], ['d', 'b', ''], ['d', 'b', '']]\n"
     ]
    }
   ],
   "metadata": {
    "tags": []
   }
  },
  {
   "cell_type": "code",
   "execution_count": 54,
   "source": [
    "#Кружки\r\n",
    "n = int(input())\r\n",
    "visited_optional_courses = set()\r\n",
    "for _ in range(n):\r\n",
    "    word = input()\r\n",
    "    if word not in visited_optional_courses:\r\n",
    "        visited_optional_courses.add(word)\r\n",
    "        print(word, end='\\n')"
   ],
   "outputs": [
    {
     "output_type": "error",
     "ename": "ValueError",
     "evalue": "invalid literal for int() with base 10: ''",
     "traceback": [
      "\u001b[1;31m---------------------------------------------------------------------------\u001b[0m",
      "\u001b[1;31mValueError\u001b[0m                                Traceback (most recent call last)",
      "\u001b[1;32m<ipython-input-54-6a9151efdcae>\u001b[0m in \u001b[0;36m<module>\u001b[1;34m\u001b[0m\n\u001b[0;32m      1\u001b[0m \u001b[1;31m#Кружки\u001b[0m\u001b[1;33m\u001b[0m\u001b[1;33m\u001b[0m\u001b[1;33m\u001b[0m\u001b[0m\n\u001b[1;32m----> 2\u001b[1;33m \u001b[0mn\u001b[0m \u001b[1;33m=\u001b[0m \u001b[0mint\u001b[0m\u001b[1;33m(\u001b[0m\u001b[0minput\u001b[0m\u001b[1;33m(\u001b[0m\u001b[1;33m)\u001b[0m\u001b[1;33m)\u001b[0m\u001b[1;33m\u001b[0m\u001b[1;33m\u001b[0m\u001b[0m\n\u001b[0m\u001b[0;32m      3\u001b[0m \u001b[0mvisited_optional_courses\u001b[0m \u001b[1;33m=\u001b[0m \u001b[0mset\u001b[0m\u001b[1;33m(\u001b[0m\u001b[1;33m)\u001b[0m\u001b[1;33m\u001b[0m\u001b[1;33m\u001b[0m\u001b[0m\n\u001b[0;32m      4\u001b[0m \u001b[1;32mfor\u001b[0m \u001b[0m_\u001b[0m \u001b[1;32min\u001b[0m \u001b[0mrange\u001b[0m\u001b[1;33m(\u001b[0m\u001b[0mn\u001b[0m\u001b[1;33m)\u001b[0m\u001b[1;33m:\u001b[0m\u001b[1;33m\u001b[0m\u001b[1;33m\u001b[0m\u001b[0m\n\u001b[0;32m      5\u001b[0m     \u001b[0mword\u001b[0m \u001b[1;33m=\u001b[0m \u001b[0minput\u001b[0m\u001b[1;33m(\u001b[0m\u001b[1;33m)\u001b[0m\u001b[1;33m\u001b[0m\u001b[1;33m\u001b[0m\u001b[0m\n",
      "\u001b[1;31mValueError\u001b[0m: invalid literal for int() with base 10: ''"
     ]
    }
   ],
   "metadata": {
    "tags": []
   }
  },
  {
   "cell_type": "code",
   "execution_count": 55,
   "source": [
    "#Мониторинг\r\n",
    "n = int(input())\r\n",
    "m = int(input())\r\n",
    "lst = [[int(x) for x in input().split()] for _ in range(n)]\r\n",
    "if n > 0 and m > 0:\r\n",
    "    lst_out = [[x[i] for x in lst] for i in range(len(lst[0]))]\r\n",
    "    for elem in lst_out:\r\n",
    "        print(*elem, end='\\n')\r\n",
    "else:\r\n",
    "    print(*lst)"
   ],
   "outputs": [
    {
     "output_type": "error",
     "ename": "ValueError",
     "evalue": "invalid literal for int() with base 10: ''",
     "traceback": [
      "\u001b[1;31m---------------------------------------------------------------------------\u001b[0m",
      "\u001b[1;31mValueError\u001b[0m                                Traceback (most recent call last)",
      "\u001b[1;32m<ipython-input-55-0460859b3f37>\u001b[0m in \u001b[0;36m<module>\u001b[1;34m\u001b[0m\n\u001b[0;32m      1\u001b[0m \u001b[1;31m#Мониторинг\u001b[0m\u001b[1;33m\u001b[0m\u001b[1;33m\u001b[0m\u001b[1;33m\u001b[0m\u001b[0m\n\u001b[1;32m----> 2\u001b[1;33m \u001b[0mn\u001b[0m \u001b[1;33m=\u001b[0m \u001b[0mint\u001b[0m\u001b[1;33m(\u001b[0m\u001b[0minput\u001b[0m\u001b[1;33m(\u001b[0m\u001b[1;33m)\u001b[0m\u001b[1;33m)\u001b[0m\u001b[1;33m\u001b[0m\u001b[1;33m\u001b[0m\u001b[0m\n\u001b[0m\u001b[0;32m      3\u001b[0m \u001b[0mm\u001b[0m \u001b[1;33m=\u001b[0m \u001b[0mint\u001b[0m\u001b[1;33m(\u001b[0m\u001b[0minput\u001b[0m\u001b[1;33m(\u001b[0m\u001b[1;33m)\u001b[0m\u001b[1;33m)\u001b[0m\u001b[1;33m\u001b[0m\u001b[1;33m\u001b[0m\u001b[0m\n\u001b[0;32m      4\u001b[0m \u001b[0mlst\u001b[0m \u001b[1;33m=\u001b[0m \u001b[1;33m[\u001b[0m\u001b[1;33m[\u001b[0m\u001b[0mint\u001b[0m\u001b[1;33m(\u001b[0m\u001b[0mx\u001b[0m\u001b[1;33m)\u001b[0m \u001b[1;32mfor\u001b[0m \u001b[0mx\u001b[0m \u001b[1;32min\u001b[0m \u001b[0minput\u001b[0m\u001b[1;33m(\u001b[0m\u001b[1;33m)\u001b[0m\u001b[1;33m.\u001b[0m\u001b[0msplit\u001b[0m\u001b[1;33m(\u001b[0m\u001b[1;33m)\u001b[0m\u001b[1;33m]\u001b[0m \u001b[1;32mfor\u001b[0m \u001b[0m_\u001b[0m \u001b[1;32min\u001b[0m \u001b[0mrange\u001b[0m\u001b[1;33m(\u001b[0m\u001b[0mn\u001b[0m\u001b[1;33m)\u001b[0m\u001b[1;33m]\u001b[0m\u001b[1;33m\u001b[0m\u001b[1;33m\u001b[0m\u001b[0m\n\u001b[0;32m      5\u001b[0m \u001b[1;32mif\u001b[0m \u001b[0mn\u001b[0m \u001b[1;33m>\u001b[0m \u001b[1;36m0\u001b[0m \u001b[1;32mand\u001b[0m \u001b[0mm\u001b[0m \u001b[1;33m>\u001b[0m \u001b[1;36m0\u001b[0m\u001b[1;33m:\u001b[0m\u001b[1;33m\u001b[0m\u001b[1;33m\u001b[0m\u001b[0m\n",
      "\u001b[1;31mValueError\u001b[0m: invalid literal for int() with base 10: ''"
     ]
    }
   ],
   "metadata": {
    "tags": []
   }
  },
  {
   "cell_type": "code",
   "execution_count": 56,
   "source": [
    "#Подстроки\r\n",
    "stin = input()\r\n",
    "stout = ''\r\n",
    "for letter in stin:\r\n",
    "    if letter not in stout:\r\n",
    "        stout += letter\r\n",
    "print(len(stout))"
   ],
   "outputs": [
    {
     "output_type": "stream",
     "name": "stdout",
     "text": [
      "0\n"
     ]
    }
   ],
   "metadata": {
    "tags": []
   }
  },
  {
   "cell_type": "code",
   "execution_count": 57,
   "source": [
    "lst = [[i*j for j in range(1,5)] for i in range(1,6)]\r\n",
    "for elem in lst:\r\n",
    "    print(*elem, end='\\n')"
   ],
   "outputs": [
    {
     "output_type": "stream",
     "name": "stdout",
     "text": [
      "1 2 3 4\n",
      "2 4 6 8\n",
      "3 6 9 12\n",
      "4 8 12 16\n",
      "5 10 15 20\n"
     ]
    }
   ],
   "metadata": {
    "tags": []
   }
  },
  {
   "cell_type": "code",
   "execution_count": 58,
   "source": [
    "#Соседи\r\n",
    "n = int(input())\r\n",
    "m = int(input())\r\n",
    "lstin = [[int(x) for x in input().split()] for _ in range(n)]\r\n",
    "i = int(input()) #координаты i, j\r\n",
    "j = int(input())\r\n",
    "lst_out = []\r\n",
    "for x in range(-1,2):\r\n",
    "    for y in range(-1,2):\r\n",
    "        if x*y == 0 and x+y != 0:\r\n",
    "            if 0 <= i+x <= len(lstin)-1 and 0 <= j+y<= len(lstin[i])-1:\r\n",
    "                lst_out.append(lstin[i+x][j+y])\r\n",
    "lst_out.sort()\r\n",
    "print(*lst_out)"
   ],
   "outputs": [
    {
     "output_type": "error",
     "ename": "ValueError",
     "evalue": "invalid literal for int() with base 10: ''",
     "traceback": [
      "\u001b[1;31m---------------------------------------------------------------------------\u001b[0m",
      "\u001b[1;31mValueError\u001b[0m                                Traceback (most recent call last)",
      "\u001b[1;32m<ipython-input-58-7941fbd8adc8>\u001b[0m in \u001b[0;36m<module>\u001b[1;34m\u001b[0m\n\u001b[0;32m      1\u001b[0m \u001b[1;31m#Соседи\u001b[0m\u001b[1;33m\u001b[0m\u001b[1;33m\u001b[0m\u001b[1;33m\u001b[0m\u001b[0m\n\u001b[1;32m----> 2\u001b[1;33m \u001b[0mn\u001b[0m \u001b[1;33m=\u001b[0m \u001b[0mint\u001b[0m\u001b[1;33m(\u001b[0m\u001b[0minput\u001b[0m\u001b[1;33m(\u001b[0m\u001b[1;33m)\u001b[0m\u001b[1;33m)\u001b[0m\u001b[1;33m\u001b[0m\u001b[1;33m\u001b[0m\u001b[0m\n\u001b[0m\u001b[0;32m      3\u001b[0m \u001b[0mm\u001b[0m \u001b[1;33m=\u001b[0m \u001b[0mint\u001b[0m\u001b[1;33m(\u001b[0m\u001b[0minput\u001b[0m\u001b[1;33m(\u001b[0m\u001b[1;33m)\u001b[0m\u001b[1;33m)\u001b[0m\u001b[1;33m\u001b[0m\u001b[1;33m\u001b[0m\u001b[0m\n\u001b[0;32m      4\u001b[0m \u001b[0mlstin\u001b[0m \u001b[1;33m=\u001b[0m \u001b[1;33m[\u001b[0m\u001b[1;33m[\u001b[0m\u001b[0mint\u001b[0m\u001b[1;33m(\u001b[0m\u001b[0mx\u001b[0m\u001b[1;33m)\u001b[0m \u001b[1;32mfor\u001b[0m \u001b[0mx\u001b[0m \u001b[1;32min\u001b[0m \u001b[0minput\u001b[0m\u001b[1;33m(\u001b[0m\u001b[1;33m)\u001b[0m\u001b[1;33m.\u001b[0m\u001b[0msplit\u001b[0m\u001b[1;33m(\u001b[0m\u001b[1;33m)\u001b[0m\u001b[1;33m]\u001b[0m \u001b[1;32mfor\u001b[0m \u001b[0m_\u001b[0m \u001b[1;32min\u001b[0m \u001b[0mrange\u001b[0m\u001b[1;33m(\u001b[0m\u001b[0mn\u001b[0m\u001b[1;33m)\u001b[0m\u001b[1;33m]\u001b[0m\u001b[1;33m\u001b[0m\u001b[1;33m\u001b[0m\u001b[0m\n\u001b[0;32m      5\u001b[0m \u001b[0mi\u001b[0m \u001b[1;33m=\u001b[0m \u001b[0mint\u001b[0m\u001b[1;33m(\u001b[0m\u001b[0minput\u001b[0m\u001b[1;33m(\u001b[0m\u001b[1;33m)\u001b[0m\u001b[1;33m)\u001b[0m \u001b[1;31m#координаты i, j\u001b[0m\u001b[1;33m\u001b[0m\u001b[1;33m\u001b[0m\u001b[0m\n",
      "\u001b[1;31mValueError\u001b[0m: invalid literal for int() with base 10: ''"
     ]
    }
   ],
   "metadata": {
    "tags": []
   }
  },
  {
   "cell_type": "code",
   "execution_count": 59,
   "source": [
    "#Алгоритм Кнута-Морриса-Пратта\r\n",
    "index = -1\r\n",
    "haystack = input()\r\n",
    "needle = input()\r\n",
    "for i in range(len(haystack)-len(needle)+1):\r\n",
    "    success = True\r\n",
    "    for j in range(len(needle)):\r\n",
    "        if needle[j]!=haystack[i+j]:\r\n",
    "            success = False\r\n",
    "            break\r\n",
    "    if success:\r\n",
    "        index = i\r\n",
    "        break\r\n",
    "print(index)"
   ],
   "outputs": [
    {
     "output_type": "stream",
     "name": "stdout",
     "text": [
      "0\n"
     ]
    }
   ],
   "metadata": {
    "tags": []
   }
  },
  {
   "cell_type": "code",
   "execution_count": 60,
   "source": [
    "def prefix(s):\r\n",
    "    v = [0]*len(s)\r\n",
    "    for i in range(1,len(s)):\r\n",
    "        k = v[i-1]\r\n",
    "        while k > 0 and s[k] != s[i]:\r\n",
    "            k = v[k-1]\r\n",
    "        if s[k] == s[i]:\r\n",
    "            k = k + 1\r\n",
    "        v[i] = k\r\n",
    "    return v\r\n",
    "\r\n",
    "def kmp(s,t):\r\n",
    "    index = -1\r\n",
    "    f = prefix(s)\r\n",
    "    k = 0\r\n",
    "    for i in range(len(t)):\r\n",
    "        while k > 0 and s[k] != t[i]:\r\n",
    "            k = f[k-1]\r\n",
    "        if s[k] == t[i]:\r\n",
    "            k = k + 1\r\n",
    "        if k == len(s):\r\n",
    "            index = i - len(s) + 1\r\n",
    "            break\r\n",
    "    return index"
   ],
   "outputs": [],
   "metadata": {}
  },
  {
   "cell_type": "code",
   "execution_count": 137,
   "source": [
    "#Подстроки\r\n",
    "stin = input()\r\n",
    "i = 0\r\n",
    "st = ''\r\n",
    "max_val = 0\r\n",
    "while i < len(stin):\r\n",
    "    if stin[i] not in st:\r\n",
    "        st += stin[i]\r\n",
    "    else:\r\n",
    "        if max_val < len(st): max_val = len(st)\r\n",
    "        st = ''\r\n",
    "    i += 1\r\n",
    "if max_val < len(st): max_val = len(st)\r\n",
    "print(max_val, st, end=' ')"
   ],
   "outputs": [
    {
     "output_type": "stream",
     "name": "stdout",
     "text": [
      "5 asoft"
     ]
    }
   ],
   "metadata": {
    "tags": []
   }
  },
  {
   "cell_type": "code",
   "execution_count": 184,
   "source": [
    "# Подстроки вариант Тощева\r\n",
    "str_in = input()\r\n",
    "n = len(str_in)\r\n",
    "s = set()\r\n",
    "j, i = 0, 0\r\n",
    "result = 0 \r\n",
    "while i < n and j < n:\r\n",
    "    if str_in[j] not in s:\r\n",
    "        s.add(str_in[j])\r\n",
    "        i += j\r\n",
    "        result = max(result,j-1)\r\n",
    "    else:\r\n",
    "        s.remove(str_in[i])\r\n",
    "        j += i\r\n",
    "print (result)"
   ],
   "outputs": [
    {
     "output_type": "error",
     "ename": "KeyboardInterrupt",
     "evalue": "",
     "traceback": [
      "\u001b[1;31m---------------------------------------------------------------------------\u001b[0m",
      "\u001b[1;31mKeyboardInterrupt\u001b[0m                         Traceback (most recent call last)",
      "\u001b[1;32m<ipython-input-184-8486a77dd32a>\u001b[0m in \u001b[0;36m<module>\u001b[1;34m\u001b[0m\n\u001b[0;32m      9\u001b[0m         \u001b[0ms\u001b[0m\u001b[1;33m.\u001b[0m\u001b[0madd\u001b[0m\u001b[1;33m(\u001b[0m\u001b[0mstr_in\u001b[0m\u001b[1;33m[\u001b[0m\u001b[0mj\u001b[0m\u001b[1;33m]\u001b[0m\u001b[1;33m)\u001b[0m\u001b[1;33m\u001b[0m\u001b[1;33m\u001b[0m\u001b[0m\n\u001b[0;32m     10\u001b[0m         \u001b[0mi\u001b[0m \u001b[1;33m+=\u001b[0m \u001b[0mj\u001b[0m\u001b[1;33m\u001b[0m\u001b[1;33m\u001b[0m\u001b[0m\n\u001b[1;32m---> 11\u001b[1;33m         \u001b[0mresult\u001b[0m \u001b[1;33m=\u001b[0m \u001b[0mmax\u001b[0m\u001b[1;33m(\u001b[0m\u001b[0mresult\u001b[0m\u001b[1;33m,\u001b[0m\u001b[0mj\u001b[0m\u001b[1;33m-\u001b[0m\u001b[1;36m1\u001b[0m\u001b[1;33m)\u001b[0m\u001b[1;33m\u001b[0m\u001b[1;33m\u001b[0m\u001b[0m\n\u001b[0m\u001b[0;32m     12\u001b[0m     \u001b[1;32melse\u001b[0m\u001b[1;33m:\u001b[0m\u001b[1;33m\u001b[0m\u001b[1;33m\u001b[0m\u001b[0m\n\u001b[0;32m     13\u001b[0m         \u001b[0ms\u001b[0m\u001b[1;33m.\u001b[0m\u001b[0mremove\u001b[0m\u001b[1;33m(\u001b[0m\u001b[0mstr_in\u001b[0m\u001b[1;33m[\u001b[0m\u001b[0mi\u001b[0m\u001b[1;33m]\u001b[0m\u001b[1;33m)\u001b[0m\u001b[1;33m\u001b[0m\u001b[1;33m\u001b[0m\u001b[0m\n",
      "\u001b[1;31mKeyboardInterrupt\u001b[0m: "
     ]
    }
   ],
   "metadata": {}
  },
  {
   "cell_type": "code",
   "execution_count": 66,
   "source": [
    "def prefix(s):\r\n",
    "    import ipdb; ipdb.set_trace()\r\n",
    "    v = [0]*len(s)\r\n",
    "    for i in range(1,len(s)):\r\n",
    "        k = v[i-1]\r\n",
    "        while k > 0 and s[k] != s[i]:\r\n",
    "            k = v[k-1]\r\n",
    "        if s[k] == s[i]:\r\n",
    "            k = k + 1\r\n",
    "        v[i] = k\r\n",
    "    return max(v)"
   ],
   "outputs": [],
   "metadata": {
    "tags": []
   }
  },
  {
   "cell_type": "code",
   "execution_count": 138,
   "source": [
    "#Связанный список\r\n",
    "class Node:\r\n",
    "    def __init__(self, value = None, next = None):\r\n",
    "        self.value = value\r\n",
    "        self.next = next\r\n",
    "\r\n",
    "    def __str__(self):\r\n",
    "        return self.value"
   ],
   "outputs": [],
   "metadata": {
    "tags": []
   }
  },
  {
   "cell_type": "code",
   "execution_count": 146,
   "source": [
    "def insert_node(node, index, value):\r\n",
    "    head = node\r\n",
    "    new_node = Node(value)\r\n",
    "    if index == 0:\r\n",
    "        new_node.next = node\r\n",
    "        return new_node\r\n",
    "    while index-1:\r\n",
    "        node = node.next\r\n",
    "        index -= 1 \r\n",
    "    tmp = node.next\r\n",
    "    node.next = new_node\r\n",
    "    new_node.next = tmp\r\n",
    "    return head   "
   ],
   "outputs": [],
   "metadata": {
    "tags": []
   }
  },
  {
   "cell_type": "code",
   "execution_count": 147,
   "source": [
    "node, index, value = n1, 2, 'new_node'\r\n",
    "head = insert_node(node, index, value)"
   ],
   "outputs": [],
   "metadata": {
    "tags": []
   }
  },
  {
   "cell_type": "code",
   "execution_count": 152,
   "source": [
    "print(head.value)"
   ],
   "outputs": [
    {
     "output_type": "stream",
     "name": "stdout",
     "text": [
      "first\n"
     ]
    }
   ],
   "metadata": {
    "tags": []
   }
  },
  {
   "cell_type": "code",
   "execution_count": 180,
   "source": [
    "#Список дел\r\n",
    "def solution(node=node):\r\n",
    "    head = node\r\n",
    "    while head:\r\n",
    "        print(head.value)\r\n",
    "        head = head.next_item"
   ],
   "outputs": [],
   "metadata": {}
  },
  {
   "cell_type": "code",
   "execution_count": 154,
   "source": [
    "class Node:\r\n",
    "    def __init__(self, value, next_item=None):\r\n",
    "        self.value = value\r\n",
    "        self.next_item = next_item"
   ],
   "outputs": [],
   "metadata": {}
  },
  {
   "cell_type": "code",
   "execution_count": 367,
   "source": [
    "#Нелюбимое дело\r\n",
    "def delete_node(head, index):\r\n",
    "    node = head.next_item  \r\n",
    "    i = 1\r\n",
    "    if index == 0:\r\n",
    "        head.next_item = None\r\n",
    "        return node\r\n",
    "    while i != index-1:\r\n",
    "        node = node.next_item\r\n",
    "        i += 1\r\n",
    "    node = node.next_item.next_item\r\n",
    "    node.next_item.next_item = None\r\n",
    "    return node"
   ],
   "outputs": [],
   "metadata": {}
  },
  {
   "cell_type": "code",
   "execution_count": 368,
   "source": [
    "n4 = Node('Заправить кровать')\r\n",
    "n3 = Node('умыться', n4)\r\n",
    "n2 = Node('позавтракать', n3)\r\n",
    "n1 = Node('почистить зубы', n2)"
   ],
   "outputs": [],
   "metadata": {}
  },
  {
   "cell_type": "code",
   "execution_count": 354,
   "source": [
    "solution(n1)"
   ],
   "outputs": [
    {
     "output_type": "stream",
     "name": "stdout",
     "text": [
      "почистить зубы\n",
      "позавтракать\n",
      "умыться\n",
      "Заправить кровать\n"
     ]
    }
   ],
   "metadata": {
    "tags": []
   }
  },
  {
   "cell_type": "code",
   "execution_count": 143,
   "source": [
    "#стек- Max\r\n",
    "class StackMax:\r\n",
    "    def __init__(self):\r\n",
    "        self.items = []\r\n",
    "    \r\n",
    "    def push(self, item):\r\n",
    "        self.items.append(item)\r\n",
    "\r\n",
    "    def pop(self):\r\n",
    "        if len(self.items) == 0:\r\n",
    "            print('error')\r\n",
    "        else:\r\n",
    "            self.items.pop()\r\n",
    "\r\n",
    "    def get_max(self):\r\n",
    "        return max(self.items, default=None)"
   ],
   "outputs": [],
   "metadata": {}
  },
  {
   "cell_type": "code",
   "execution_count": 172,
   "source": [
    "class Stack:\r\n",
    "     def __init__(self):\r\n",
    "         self.items = []\r\n",
    "\r\n",
    "     def isEmpty(self):\r\n",
    "         return self.items == []\r\n",
    "\r\n",
    "     def push(self, item):\r\n",
    "         self.items.append(item)\r\n",
    "\r\n",
    "     def pop(self):\r\n",
    "         return self.items.pop()\r\n",
    "\r\n",
    "     def peek(self):\r\n",
    "         return self.items[len(self.items)-1]\r\n",
    "\r\n",
    "     def size(self):\r\n",
    "         return len(self.items)"
   ],
   "outputs": [],
   "metadata": {}
  },
  {
   "cell_type": "code",
   "execution_count": 177,
   "source": [
    "n = int(input())\r\n",
    "stack = StackMax()\r\n",
    "for _ in range(n):\r\n",
    "    command = input().split()\r\n",
    "    if command[0] == 'push':\r\n",
    "        getattr(stack, command[0])(int(command[1]))\r\n",
    "    else:\r\n",
    "        print(getattr(stack, command[0])())"
   ],
   "outputs": [
    {
     "output_type": "stream",
     "name": "stdout",
     "text": [
      "None\n",
      "error\n",
      "error\n",
      "error\n",
      "10\n"
     ]
    }
   ],
   "metadata": {
    "tags": []
   }
  },
  {
   "cell_type": "code",
   "execution_count": null,
   "source": [
    "#стек-MaxEffective\r\n",
    "class MaxEffective:\r\n",
    "    def __init__(self):\r\n",
    "        self.items = []\r\n",
    "    \r\n",
    "    def push(self, item):\r\n",
    "        self.items.append(item)\r\n",
    "\r\n",
    "    def pop(self):\r\n",
    "        return self.items.pop()\r\n",
    "\r\n",
    "    def get_max(self):\r\n",
    "        return max(self.items, default=None)"
   ],
   "outputs": [],
   "metadata": {}
  },
  {
   "cell_type": "code",
   "execution_count": 217,
   "source": [
    "#L. Скобочная последовательность\r\n",
    "def is_correct_bracket_seq():\r\n",
    "    stack = []\r\n",
    "    opening = ('[', '{', '(')\r\n",
    "    closing = (']', '}', ')')\r\n",
    "    match = {\r\n",
    "            ')':'(',\r\n",
    "            '}':'{',\r\n",
    "            ']':'['\r\n",
    "    }\r\n",
    "\r\n",
    "    str_in  = input()\r\n",
    "    for i in str_in:\r\n",
    "        if i in opening:\r\n",
    "            stack.append(i)\r\n",
    "\r\n",
    "        if i in closing:\r\n",
    "            if not stack or stack[-1] != match[i]:\r\n",
    "                return False\r\n",
    "            else:\r\n",
    "                stack.pop()\r\n",
    "    \r\n",
    "    return len(stack) == 0"
   ],
   "outputs": [],
   "metadata": {}
  },
  {
   "cell_type": "code",
   "execution_count": 219,
   "source": [
    "is_correct_bracket_seq()"
   ],
   "outputs": [
    {
     "output_type": "execute_result",
     "data": {
      "text/plain": [
       "True"
      ]
     },
     "metadata": {},
     "execution_count": 219
    }
   ],
   "metadata": {
    "tags": []
   }
  },
  {
   "cell_type": "code",
   "execution_count": 216,
   "source": [
    "lst = set()\r\n",
    "lst"
   ],
   "outputs": [
    {
     "output_type": "execute_result",
     "data": {
      "text/plain": [
       "set()"
      ]
     },
     "metadata": {},
     "execution_count": 216
    }
   ],
   "metadata": {}
  },
  {
   "cell_type": "code",
   "execution_count": 224,
   "source": [
    "#Calc\r\n",
    "str_in = input()\r\n",
    "operator = ('*', '/', '+', '-')\r\n",
    "stack = []\r\n",
    "for i in str_in:\r\n",
    "    if i in operator:\r\n",
    "        pass\r\n",
    "    else:\r\n",
    "        stack.append(i)"
   ],
   "outputs": [],
   "metadata": {}
  },
  {
   "cell_type": "code",
   "execution_count": 228,
   "source": [
    "#Ограниченная очередь\r\n",
    "class MyQueueSized():\r\n",
    "\r\n",
    "    def __init__(self, max_size):\r\n",
    "        self.queue = [None for _ in range(max_size)]\r\n",
    "        self.max_n = max_size\r\n",
    "        self.head = 0\r\n",
    "        self.tail = 0\r\n",
    "        self.size = 0\r\n",
    "    \r\n",
    "    def peek(self):\r\n",
    "        if not self.size:\r\n",
    "            return None\r\n",
    "        return self.queue[self.head]\r\n",
    "\r\n",
    "    def push(self,x):\r\n",
    "        if self.size != self.max_n:\r\n",
    "            self.queue[self.tail] = x\r\n",
    "            self.tail = (self.tail + 1) % self.max_n\r\n",
    "            self.size += 1\r\n",
    "        else:\r\n",
    "            print ('error')\r\n",
    "\r\n",
    "    def pop(self):\r\n",
    "        if not self.size:\r\n",
    "            return None\r\n",
    "        x = self.queue[self.head]\r\n",
    "        self.queue[self.head] = None\r\n",
    "        self.head = (self.head + 1) % self.max_n\r\n",
    "        self.size -= 1\r\n",
    "        return x\r\n",
    "\r\n",
    "n = int(input())\r\n",
    "q = MyQueueSized(int(input()))\r\n",
    "for _ in range(n):\r\n",
    "    command = input().split()\r\n",
    "    if command[0] == 'push':\r\n",
    "        q.push(int(command[1]))\r\n",
    "    elif command[0] == 'pop':\r\n",
    "        print(q.pop())\r\n",
    "    elif command[0] == 'peek':\r\n",
    "        print(q.peek())\r\n",
    "    elif command[0] == 'size':\r\n",
    "        print(q.size)"
   ],
   "outputs": [
    {
     "output_type": "stream",
     "name": "stdout",
     "text": [
      "1\n",
      "error\n",
      "1\n",
      "error\n",
      "1\n",
      "1\n",
      "error\n"
     ]
    }
   ],
   "metadata": {
    "tags": []
   }
  },
  {
   "cell_type": "code",
   "execution_count": 36,
   "source": [
    "#Спральное заполнение матрицы\r\n",
    "n = int(input())\r\n",
    "val = 1\r\n",
    "i = 0\r\n",
    "lst = [[i for i in range(n)] for _ in range(n)]\r\n",
    "#Ширина матрицы\r\n",
    "a = 0 \r\n",
    "b = n-1\r\n",
    "\r\n",
    "#высота матрицы\r\n",
    "c = 0 \r\n",
    "d = n-1\r\n",
    "while val <= n*n:\r\n",
    "    #Первый шаг\r\n",
    "    if val > n*n:\r\n",
    "        break\r\n",
    "    else:\r\n",
    "        if a == b: b += 1\r\n",
    "        for j in range(a,b):\r\n",
    "            lst[i][j] = val\r\n",
    "            val += 1\r\n",
    "        j += 1\r\n",
    "\r\n",
    "    #Шаг второй\r\n",
    "    if val > n*n:\r\n",
    "        break\r\n",
    "    else:\r\n",
    "        for i in range(c,d):\r\n",
    "            lst[i][j] = val\r\n",
    "            val += 1\r\n",
    "        i += 1\r\n",
    "   \r\n",
    "    #Шаг третий\r\n",
    "    if val > n*n:\r\n",
    "        break\r\n",
    "    else:\r\n",
    "        for j in range(b,a,-1):\r\n",
    "            lst[i][j] =  val\r\n",
    "            val += 1 \r\n",
    "        j -= 1\r\n",
    "\r\n",
    "    #Шаг четвертый\r\n",
    "    if val > n*n:\r\n",
    "        break\r\n",
    "    else:\r\n",
    "        for i in range(d,c,-1):\r\n",
    "            lst[i][j] = val\r\n",
    "            val += 1\r\n",
    "    b -= 1\r\n",
    "    d -= 1\r\n",
    "    a += 1\r\n",
    "    c += 1\r\n",
    "for elem in lst:\r\n",
    "    print(*elem)"
   ],
   "outputs": [
    {
     "output_type": "stream",
     "name": "stdout",
     "text": [
      "1 2 3 4\n",
      "12 13 14 5\n",
      "11 16 15 6\n",
      "10 9 8 7\n"
     ]
    }
   ],
   "metadata": {}
  },
  {
   "cell_type": "code",
   "execution_count": 37,
   "source": [
    "n=int(input())\r\n",
    "t=[[0]*n for i in range (n)]\r\n",
    "i,j=0,0\r\n",
    "for k in range(1, n*n+1):\r\n",
    "  t[i][j]=k\r\n",
    "  if k==n*n: break\r\n",
    "  if i<=j+1 and i+j<n-1: j+=1\r\n",
    "  elif i<j and i+j>=n-1: i+=1\r\n",
    "  elif i>=j and i+j>n-1: j-=1\r\n",
    "  elif i>j+1 and i+j<=n-1: i-=1\r\n",
    "for i in range(n):\r\n",
    "  print(*t[i])"
   ],
   "outputs": [
    {
     "output_type": "stream",
     "name": "stdout",
     "text": [
      "1 2 3 4\n",
      "12 13 14 5\n",
      "11 16 15 6\n",
      "10 9 8 7\n"
     ]
    }
   ],
   "metadata": {}
  },
  {
   "cell_type": "code",
   "execution_count": 127,
   "source": [
    "with open('input.txt') as inf:\r\n",
    "    a,b = inf.readline().split()\r\n",
    "m = len(a)-len(b)\r\n",
    "num = 0\r\n",
    "res =0\r\n",
    "stout = ''\r\n",
    "if m < 0:\r\n",
    "    c = len(b)\r\n",
    "    for i in range(c-1,-1,-1):\r\n",
    "        if i+m >= 0:\r\n",
    "            num = int(b[i])+int(a[i+m])+res\r\n",
    "        else:\r\n",
    "            num = int(b[i])+res\r\n",
    "        res = num//10\r\n",
    "        stout += str(num%10)\r\n",
    "else:    \r\n",
    "    c = len(a)\r\n",
    "    for i in range(c-1,-1,-1):\r\n",
    "        if i-m >= 0:\r\n",
    "            num = int(b[i-m])+int(a[i])+res\r\n",
    "        else:\r\n",
    "            num = int(a[i])+res\r\n",
    "        res = num//10\r\n",
    "        stout += str(num%10)\r\n",
    "if res !=0: stout += str(res)\r\n",
    "with open('output.txt', 'w') as ouf:\r\n",
    "    ouf.write(stout[::-1])"
   ],
   "outputs": [
    {
     "output_type": "error",
     "ename": "FileNotFoundError",
     "evalue": "[Errno 2] No such file or directory: 'input.txt'",
     "traceback": [
      "\u001b[1;31m---------------------------------------------------------------------------\u001b[0m",
      "\u001b[1;31mFileNotFoundError\u001b[0m                         Traceback (most recent call last)",
      "\u001b[1;32m<ipython-input-127-e67c27fa59de>\u001b[0m in \u001b[0;36m<module>\u001b[1;34m\u001b[0m\n\u001b[1;32m----> 1\u001b[1;33m \u001b[1;32mwith\u001b[0m \u001b[0mopen\u001b[0m\u001b[1;33m(\u001b[0m\u001b[1;34m'input.txt'\u001b[0m\u001b[1;33m)\u001b[0m \u001b[1;32mas\u001b[0m \u001b[0minf\u001b[0m\u001b[1;33m:\u001b[0m\u001b[1;33m\u001b[0m\u001b[1;33m\u001b[0m\u001b[0m\n\u001b[0m\u001b[0;32m      2\u001b[0m     \u001b[0ma\u001b[0m\u001b[1;33m,\u001b[0m\u001b[0mb\u001b[0m \u001b[1;33m=\u001b[0m \u001b[0minf\u001b[0m\u001b[1;33m.\u001b[0m\u001b[0mreadline\u001b[0m\u001b[1;33m(\u001b[0m\u001b[1;33m)\u001b[0m\u001b[1;33m.\u001b[0m\u001b[0msplit\u001b[0m\u001b[1;33m(\u001b[0m\u001b[1;33m)\u001b[0m\u001b[1;33m\u001b[0m\u001b[1;33m\u001b[0m\u001b[0m\n\u001b[0;32m      3\u001b[0m \u001b[0mm\u001b[0m \u001b[1;33m=\u001b[0m \u001b[0mlen\u001b[0m\u001b[1;33m(\u001b[0m\u001b[0ma\u001b[0m\u001b[1;33m)\u001b[0m\u001b[1;33m-\u001b[0m\u001b[0mlen\u001b[0m\u001b[1;33m(\u001b[0m\u001b[0mb\u001b[0m\u001b[1;33m)\u001b[0m\u001b[1;33m\u001b[0m\u001b[1;33m\u001b[0m\u001b[0m\n\u001b[0;32m      4\u001b[0m \u001b[0mnum\u001b[0m \u001b[1;33m=\u001b[0m \u001b[1;36m0\u001b[0m\u001b[1;33m\u001b[0m\u001b[1;33m\u001b[0m\u001b[0m\n\u001b[0;32m      5\u001b[0m \u001b[0mres\u001b[0m \u001b[1;33m=\u001b[0m\u001b[1;36m0\u001b[0m\u001b[1;33m\u001b[0m\u001b[1;33m\u001b[0m\u001b[0m\n",
      "\u001b[1;31mFileNotFoundError\u001b[0m: [Errno 2] No such file or directory: 'input.txt'"
     ]
    }
   ],
   "metadata": {}
  },
  {
   "cell_type": "code",
   "execution_count": 119,
   "source": [
    "s = set(input())\r\n",
    "j = input()\r\n",
    "m = 0\r\n",
    "for w in s:\r\n",
    "    m += j.count(w)\r\n",
    "print(m)"
   ],
   "outputs": [
    {
     "output_type": "stream",
     "name": "stdout",
     "text": [
      "6\n"
     ]
    }
   ],
   "metadata": {}
  },
  {
   "cell_type": "code",
   "execution_count": null,
   "source": [
    "#Чтение из файла\r\n",
    "with open('file.txt') as inf:\r\n",
    "    s1 = inf.readline()\r\n",
    "    s2 = inf.readline()\r\n",
    "#Запись в файл \r\n",
    "with open('file.txt') as ouf:\r\n",
    "    ouf.write()"
   ],
   "outputs": [],
   "metadata": {}
  },
  {
   "cell_type": "code",
   "execution_count": 28,
   "source": [
    "import operator\r\n",
    "a = float(input())\r\n",
    "b = float(input())\r\n",
    "oper = input()\r\n",
    "dct = {'+':operator.add,\r\n",
    "       '-':operator.sub,\r\n",
    "       '/': operator.truediv,\r\n",
    "       '*': operator.mul,\r\n",
    "       'mod': operator.mod,\r\n",
    "       'pow': operator.pow,\r\n",
    "       'div': operator.floordiv\r\n",
    "        }\r\n",
    "try:\r\n",
    "    c = dct.get(oper)(a,b)\r\n",
    "except ZeroDivisionError:\r\n",
    "    c = 'Деление на 0!'\r\n",
    "print(c)"
   ],
   "outputs": [
    {
     "output_type": "stream",
     "name": "stdout",
     "text": [
      "0.75\n"
     ]
    }
   ],
   "metadata": {}
  },
  {
   "cell_type": "code",
   "execution_count": 29,
   "source": [
    "form = input()\r\n",
    "if form == 'треугольник':\r\n",
    "    a = float(input())\r\n",
    "    b = float(input())\r\n",
    "    c = float(input())\r\n",
    "    p = (a+b+c)/2\r\n",
    "    print(p)\r\n",
    "elif form == 'прямоугольник':\r\n",
    "    a = float(input())\r\n",
    "    b = float(input())\r\n",
    "    print(a*b)\r\n",
    "else:\r\n",
    "    r = float(input())\r\n",
    "    print(3.14*(r**2))"
   ],
   "outputs": [
    {
     "output_type": "stream",
     "name": "stdout",
     "text": [
      "12.0\n"
     ]
    }
   ],
   "metadata": {}
  },
  {
   "cell_type": "code",
   "execution_count": 31,
   "source": [
    "a = int(input())\r\n",
    "b = int(input())\r\n",
    "c = int(input())\r\n",
    "if a < b:\r\n",
    "    a, b = b, a\r\n",
    "elif b < c:\r\n",
    "    b, c = c, b\r\n",
    "elif c < a:\r\n",
    "    a, c =  c, a\r\n",
    "print(a, c, b, sep='\\n')"
   ],
   "outputs": [
    {
     "output_type": "stream",
     "name": "stdout",
     "text": [
      "23 21 23\n"
     ]
    }
   ],
   "metadata": {}
  },
  {
   "cell_type": "code",
   "execution_count": 42,
   "source": [
    "n = input()\r\n",
    "if n[-1] == '0' or 5 <= int(n[-1]) <= 9 or 11 <= int(n[-2:]) <= 19:\r\n",
    "    print(n, 'программистов')\r\n",
    "elif n[-1] == `1`:\r\n",
    "    print(n, 'программист')\r\n",
    "else:\r\n",
    "    print(n, 'программиста')"
   ],
   "outputs": [
    {
     "output_type": "stream",
     "name": "stdout",
     "text": [
      "114 программистов\n"
     ]
    }
   ],
   "metadata": {}
  },
  {
   "cell_type": "code",
   "execution_count": 66,
   "source": [
    "a = int(input())\r\n",
    "b = int(input())\r\n",
    "c = int(input())\r\n",
    "d = int(input())\r\n",
    "row= [i for i in range(c, d+1)]\r\n",
    "col = [i for i in range(a,b+1)]\r\n",
    "lst = [[i*j for i in range(c, d+1)] for j in range(a,b+1)]\r\n",
    "print('', *row, sep='\\t')\r\n",
    "for i in range (len(col)):\r\n",
    "    print(col[i], *lst[i], sep='\\t')\r\n"
   ],
   "outputs": [
    {
     "output_type": "stream",
     "name": "stdout",
     "text": [
      "\t5\t6\t7\t8\n",
      "7\t35\t42\t49\t56\n",
      "8\t40\t48\t56\t64\n",
      "9\t45\t54\t63\t72\n"
     ]
    }
   ],
   "metadata": {}
  },
  {
   "cell_type": "code",
   "execution_count": 85,
   "source": [
    "fib = 4\r\n",
    "a,b = 0,1\r\n",
    "i = 1\r\n",
    "while i !=fib:\r\n",
    "   a, b = b, a+b\r\n",
    "   i += 1\r\n",
    "print (b) "
   ],
   "outputs": [
    {
     "output_type": "stream",
     "name": "stdout",
     "text": [
      "3\n"
     ]
    }
   ],
   "metadata": {}
  }
 ]
}