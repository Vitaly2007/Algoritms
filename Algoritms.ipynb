{
 "metadata": {
  "language_info": {
   "codemirror_mode": {
    "name": "ipython",
    "version": 3
   },
   "file_extension": ".py",
   "mimetype": "text/x-python",
   "name": "python",
   "nbconvert_exporter": "python",
   "pygments_lexer": "ipython3",
   "version": "3.8.4-final"
  },
  "orig_nbformat": 2,
  "kernelspec": {
   "name": "python_defaultSpec_1600160253584",
   "display_name": "Python 3.8.4 64-bit ('venv': venv)"
  }
 },
 "nbformat": 4,
 "nbformat_minor": 2,
 "cells": [
  {
   "cell_type": "code",
   "execution_count": 6,
   "metadata": {
    "tags": []
   },
   "outputs": [],
   "source": [
    "def anagramm ( word_1, word_2):\n",
    "    if len(word_1) != len(word_2) or word_1 == word_2[::2]:\n",
    "        return False\n",
    "    else:\n",
    "        dct = {elem: word_1.count(elem) for elem in word_1}\n",
    "        for elem in word_2:\n",
    "            if elem in dct.keys():\n",
    "                dct[elem] -= 1\n",
    "            else:\n",
    "                return False\n",
    "        for elem in dct.values():\n",
    "            if elem != 0:\n",
    "                return False\n",
    "        return True "
   ]
  },
  {
   "cell_type": "code",
   "execution_count": 11,
   "metadata": {
    "tags": []
   },
   "outputs": [
    {
     "output_type": "stream",
     "name": "stdout",
     "text": "['а', 'а', 'к', 'м', 'о', 'р', 'ш'] ['а', 'а', 'к', 'м', 'о', 'р', 'ш']\n"
    }
   ],
   "source": [
    "word_1 = input()\n",
    "word_2 = input()\n",
    "anagramm(word_1, word_2)"
   ]
  },
  {
   "cell_type": "code",
   "execution_count": 13,
   "metadata": {
    "tags": []
   },
   "outputs": [
    {
     "output_type": "stream",
     "name": "stdout",
     "text": "True\n"
    }
   ],
   "source": [
    "word_1 = input()\n",
    "word_2 = input()\n",
    "if len(word_1) != len(word_2) or word_1 == word_2[::2] or sorted(word_1) != sorted (word_2):\n",
    "        print(False)\n",
    "else:\n",
    "        print(True)"
   ]
  },
  {
   "cell_type": "code",
   "execution_count": 54,
   "metadata": {
    "tags": []
   },
   "outputs": [
    {
     "output_type": "stream",
     "name": "stdout",
     "text": "False\n"
    }
   ],
   "source": [
    "#Палиндром\n",
    "stin = list(input().lower())\n",
    "if len(stin) == 1:\n",
    "    print(True)\n",
    "else:\n",
    "    for i in stin[::-1]:\n",
    "        if ord(i) not in range(97,123) or i == ' ':\n",
    "            stin.remove(i)\n",
    "    print(stin == stin[::-1])"
   ]
  },
  {
   "cell_type": "code",
   "execution_count": 57,
   "metadata": {
    "tags": []
   },
   "outputs": [
    {
     "output_type": "stream",
     "name": "stdout",
     "text": "0\n1\n0\n1\n"
    }
   ],
   "source": [
    "#Двоичная система\n",
    "num1 = input()\n",
    "num2 = input()\n",
    "if len(num1) > len(num2):\n",
    "    lst = list(num1)\n",
    "elif len(num1) < len(num2):\n",
    "    lst = list(num2)\n",
    "else:\n",
    "    lst = list(num1)\n",
    "for elem in lst[::-1]:\n",
    "    "
   ]
  },
  {
   "cell_type": "code",
   "execution_count": 58,
   "metadata": {
    "tags": []
   },
   "outputs": [
    {
     "output_type": "stream",
     "name": "stdout",
     "text": "1234567891012346657768\n"
    }
   ],
   "source": [
    "print(\" \".join(map(str, sorted(map(int, input().split())))))"
   ]
  },
  {
   "cell_type": "code",
   "execution_count": null,
   "metadata": {},
   "outputs": [],
   "source": []
  }
 ]
}